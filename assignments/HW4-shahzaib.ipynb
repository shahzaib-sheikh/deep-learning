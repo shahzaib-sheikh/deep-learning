{
 "cells": [
  {
   "cell_type": "code",
   "execution_count": 205,
   "metadata": {},
   "outputs": [],
   "source": [
    "# code reference: https://github.com/jeffheaton/t81_558_deep_learning/blob/dce2306815d4ac7c6443a01c071901822d612c6a/t81_558_class_06_4_keras_images.ipynb\n",
    "\n",
    "%matplotlib inline\n",
    "from PIL import Image, ImageFile\n",
    "from matplotlib.pyplot import imshow\n",
    "import requests\n",
    "import numpy as np\n",
    "from io import BytesIO\n",
    "from IPython.display import display, HTML\n",
    "import os\n",
    "import tensorflow.keras\n",
    "from tensorflow.keras.models import Sequential\n",
    "from tensorflow.keras.layers import Dense, Dropout, Flatten\n",
    "from tensorflow.keras.layers import Conv2D, MaxPooling2D\n",
    "from tensorflow.keras import backend as K\n",
    "import tensorflow as tf\n",
    "import time\n",
    "\n",
    "\n",
    "IMAGE_WIDTH = 32\n",
    "IMAGE_HEIGHT = 32\n",
    "IMAGE_CHANNELS = 3\n",
    "\n",
    "# Nicely formatted time string\n",
    "def hms_string(sec_elapsed):\n",
    "    h = int(sec_elapsed / (60 * 60))\n",
    "    m = int((sec_elapsed % (60 * 60)) / 60)\n",
    "    s = sec_elapsed % 60\n",
    "    return f\"{h}:{m:>02}:{s:>05.2f}\"\n",
    "\n",
    "def make_square(img):\n",
    "    cols,rows = img.size\n",
    "    \n",
    "    if rows>cols:\n",
    "        pad = (rows-cols)/2\n",
    "        img = img.crop((pad,0,cols,cols))\n",
    "    else:\n",
    "        pad = (cols-rows)/2\n",
    "        img = img.crop((0,pad,rows,rows))\n",
    "    \n",
    "    return img\n",
    "\n",
    "def load_images_from_folder(folder):\n",
    "    images = []\n",
    "    for filename in os.listdir(folder):\n",
    "        try:\n",
    "            img = Image.open(os.path.join(folder,filename))\n",
    "            img.load()\n",
    "            if img is not None:\n",
    "                make_square(img)\n",
    "                img = img.resize((IMAGE_WIDTH,IMAGE_HEIGHT),Image.ANTIALIAS)\n",
    "                class_label =  0 if filename[0] == '0' else 1  \n",
    "                images.append((img,class_label))\n",
    "#                 print(\"Loaded \",filename)\n",
    "                \n",
    "        except:\n",
    "              continue;\n",
    "#             print(\"An exception occurred while reading image\",filename)\n",
    "    return images\n",
    "\n",
    "training_data = []\n",
    "training_data_label = []\n",
    "testing_data = []\n",
    "testing_data_label = []\n",
    "\n",
    "randomised_data = []\n",
    "\n",
    "train_folder=\"HW4-dataset/training\"\n",
    "test_folder=\"HW4-dataset/testing\"\n",
    "randomised_folder=\"HW4-dataset/randomised\"\n",
    "\n",
    "train_images=load_images_from_folder(train_folder)\n",
    "test_images=load_images_from_folder(test_folder)\n",
    "randomised_images=load_images_from_folder(randomised_folder)\n",
    "\n",
    "for i in train_images:\n",
    "    (img, label) = i\n",
    "#   display(img)\n",
    "    \n",
    "    training_data.append(np.asarray(img))\n",
    "    training_data_label.append(label)\n",
    "    \n",
    "    \n",
    "for i in test_images:\n",
    "    (img, label) = i\n",
    "#   display(img)\n",
    "    \n",
    "    testing_data.append(np.asarray(img))\n",
    "    testing_data_label.append(label)\n",
    "    \n",
    "for i in randomised_images:\n",
    "    (img, label) = i\n",
    "#   display(img)\n",
    "    \n",
    "    randomised_data.append(np.asarray(img))\n",
    "    \n",
    "    \n",
    "    \n",
    "    \n",
    "    \n",
    "    \n",
    "    "
   ]
  },
  {
   "cell_type": "code",
   "execution_count": 206,
   "metadata": {},
   "outputs": [],
   "source": [
    "training_data = np.array(training_data) / 127.5 - 1.\n",
    "testing_data = np.array(testing_data) / 127.5 - 1.\n",
    "\n",
    "\n",
    "randomised_data = np.array(randomised_data) / 127.5 - 1.\n"
   ]
  },
  {
   "cell_type": "code",
   "execution_count": 207,
   "metadata": {},
   "outputs": [
    {
     "name": "stdout",
     "output_type": "stream",
     "text": [
      "Saving image binary...\n",
      "Done.\n"
     ]
    }
   ],
   "source": [
    "print(\"Saving image binary...\")\n",
    "np.save(\"HW4-training\",training_data) # Saves as \"training.npy\"\n",
    "np.save(\"HW4-testing\",testing_data)\n",
    "print(\"Done.\")"
   ]
  },
  {
   "cell_type": "code",
   "execution_count": 208,
   "metadata": {},
   "outputs": [],
   "source": [
    "num_classes = 2\n",
    "epochs = 20\n",
    "\n",
    "\n",
    "if K.image_data_format() == 'channels_first':\n",
    "    training_data = training_data.reshape(training_data.shape[0], IMAGE_CHANNELS, IMAGE_WIDTH, IMAGE_HEIGHT)\n",
    "    testing_data = testing_data.reshape(testing_data.shape[0], IMAGE_CHANNELS, IMAGE_WIDTH, IMAGE_HEIGHT)\n",
    "    randomised_data = randomised_data.reshape(randomised_data.shape[0], IMAGE_CHANNELS, IMAGE_WIDTH, IMAGE_HEIGHT)\n",
    "    input_shape = (IMAGE_CHANNELS, IMAGE_WIDTH, IMAGE_HEIGHT)\n",
    "else:\n",
    "    training_data = training_data.reshape(training_data.shape[0], IMAGE_WIDTH, IMAGE_HEIGHT, IMAGE_CHANNELS)\n",
    "    testing_data = testing_data.reshape(testing_data.shape[0], IMAGE_WIDTH, IMAGE_HEIGHT, IMAGE_CHANNELS)\n",
    "    randomised_data = randomised_data.reshape(randomised_data.shape[0], IMAGE_WIDTH, IMAGE_HEIGHT, IMAGE_CHANNELS)\n",
    "    input_shape = (IMAGE_WIDTH, IMAGE_HEIGHT, IMAGE_CHANNELS)"
   ]
  },
  {
   "cell_type": "code",
   "execution_count": 209,
   "metadata": {},
   "outputs": [],
   "source": [
    "model = Sequential()\n",
    "model.add(Conv2D(32, kernel_size=(3, 3),\n",
    "                 activation='relu',\n",
    "                 input_shape=input_shape))\n",
    "model.add(Conv2D(64, (3, 3), activation='relu'))\n",
    "model.add(MaxPooling2D(pool_size=(2, 2)))\n",
    "model.add(Dropout(0.25))\n",
    "model.add(Flatten())\n",
    "model.add(Dense(128, activation='relu'))\n",
    "model.add(Dropout(0.5))\n",
    "model.add(Dense(num_classes, activation='softmax'))\n",
    "model.compile(loss='categorical_crossentropy', optimizer='adam',\n",
    "              metrics=['accuracy'])"
   ]
  },
  {
   "cell_type": "code",
   "execution_count": 210,
   "metadata": {},
   "outputs": [],
   "source": [
    "model2 = Sequential()\n",
    "model2.add(Conv2D(32, kernel_size=(3, 3),\n",
    "                 activation='relu',\n",
    "                 input_shape=input_shape))\n",
    "model2.add(Conv2D(64, (3, 3), activation='relu'))\n",
    "model2.add(MaxPooling2D(pool_size=(2, 2)))\n",
    "model2.add(Flatten())\n",
    "model2.add(Dense(128, activation='sigmoid'))\n",
    "model2.add(Dense(num_classes, activation='softmax'))\n",
    "model2.compile(loss='categorical_crossentropy', optimizer='adam',\n",
    "              metrics=['accuracy'])"
   ]
  },
  {
   "cell_type": "code",
   "execution_count": 211,
   "metadata": {},
   "outputs": [],
   "source": [
    "start_time = time.time()\n",
    "\n",
    "training_data_label = tensorflow.keras.utils.to_categorical(training_data_label, num_classes)\n",
    "testing_data_label = tensorflow.keras.utils.to_categorical(testing_data_label, num_classes)\n",
    "\n"
   ]
  },
  {
   "cell_type": "code",
   "execution_count": 212,
   "metadata": {},
   "outputs": [
    {
     "name": "stdout",
     "output_type": "stream",
     "text": [
      "Train on 22 samples, validate on 8 samples\n",
      "Epoch 1/20\n",
      "22/22 - 3s - loss: 0.7360 - accuracy: 0.5000 - val_loss: 1.0424 - val_accuracy: 0.5000\n",
      "Epoch 2/20\n",
      "22/22 - 0s - loss: 0.8690 - accuracy: 0.5909 - val_loss: 1.1559 - val_accuracy: 0.5000\n",
      "Epoch 3/20\n",
      "22/22 - 0s - loss: 1.1014 - accuracy: 0.5909 - val_loss: 0.5189 - val_accuracy: 0.7500\n",
      "Epoch 4/20\n",
      "22/22 - 0s - loss: 0.5530 - accuracy: 0.6818 - val_loss: 0.3895 - val_accuracy: 1.0000\n",
      "Epoch 5/20\n",
      "22/22 - 0s - loss: 0.3258 - accuracy: 0.9091 - val_loss: 0.3535 - val_accuracy: 1.0000\n",
      "Epoch 6/20\n",
      "22/22 - 0s - loss: 0.2751 - accuracy: 0.8636 - val_loss: 0.2693 - val_accuracy: 1.0000\n",
      "Epoch 7/20\n",
      "22/22 - 0s - loss: 0.2579 - accuracy: 0.9545 - val_loss: 0.2029 - val_accuracy: 1.0000\n",
      "Epoch 8/20\n",
      "22/22 - 0s - loss: 0.1627 - accuracy: 0.9545 - val_loss: 0.1566 - val_accuracy: 1.0000\n",
      "Epoch 9/20\n",
      "22/22 - 0s - loss: 0.1515 - accuracy: 0.9091 - val_loss: 0.1298 - val_accuracy: 1.0000\n",
      "Epoch 10/20\n",
      "22/22 - 0s - loss: 0.0948 - accuracy: 1.0000 - val_loss: 0.1097 - val_accuracy: 1.0000\n",
      "Epoch 11/20\n",
      "22/22 - 0s - loss: 0.0584 - accuracy: 1.0000 - val_loss: 0.0909 - val_accuracy: 1.0000\n",
      "Epoch 12/20\n",
      "22/22 - 0s - loss: 0.0301 - accuracy: 1.0000 - val_loss: 0.0712 - val_accuracy: 1.0000\n",
      "Epoch 13/20\n",
      "22/22 - 0s - loss: 0.0409 - accuracy: 1.0000 - val_loss: 0.0504 - val_accuracy: 1.0000\n",
      "Epoch 14/20\n",
      "22/22 - 0s - loss: 0.0155 - accuracy: 1.0000 - val_loss: 0.0379 - val_accuracy: 1.0000\n",
      "Epoch 15/20\n",
      "22/22 - 0s - loss: 0.0216 - accuracy: 1.0000 - val_loss: 0.0249 - val_accuracy: 1.0000\n",
      "Epoch 16/20\n",
      "22/22 - 0s - loss: 0.0067 - accuracy: 1.0000 - val_loss: 0.0175 - val_accuracy: 1.0000\n",
      "Epoch 17/20\n",
      "22/22 - 0s - loss: 0.0023 - accuracy: 1.0000 - val_loss: 0.0130 - val_accuracy: 1.0000\n",
      "Epoch 18/20\n",
      "22/22 - 0s - loss: 0.0018 - accuracy: 1.0000 - val_loss: 0.0098 - val_accuracy: 1.0000\n",
      "Epoch 19/20\n",
      "22/22 - 0s - loss: 0.0027 - accuracy: 1.0000 - val_loss: 0.0082 - val_accuracy: 1.0000\n",
      "Epoch 20/20\n",
      "22/22 - 0s - loss: 0.0088 - accuracy: 1.0000 - val_loss: 0.0092 - val_accuracy: 1.0000\n",
      "Test loss: 0.00922046322375536\n",
      "Test accuracy: 1.0\n",
      "Elapsed time: 0:00:09.73\n"
     ]
    }
   ],
   "source": [
    "model.fit(training_data, training_data_label,\n",
    "          epochs=epochs,\n",
    "          verbose=2,\n",
    "          validation_data=(testing_data, testing_data_label))\n",
    "score = model.evaluate(testing_data, testing_data_label, verbose=0)\n",
    "print('Test loss: {}'.format(score[0]))\n",
    "print('Test accuracy: {}'.format(score[1]))\n",
    "\n",
    "elapsed_time = time.time() - start_time\n",
    "print(\"Elapsed time: {}\".format(hms_string(elapsed_time)))\n"
   ]
  },
  {
   "cell_type": "code",
   "execution_count": 213,
   "metadata": {},
   "outputs": [
    {
     "name": "stdout",
     "output_type": "stream",
     "text": [
      "Train on 22 samples, validate on 8 samples\n",
      "Epoch 1/20\n",
      "22/22 - 2s - loss: 0.7097 - accuracy: 0.5000 - val_loss: 1.3094 - val_accuracy: 0.5000\n",
      "Epoch 2/20\n",
      "22/22 - 0s - loss: 1.2791 - accuracy: 0.5000 - val_loss: 0.5448 - val_accuracy: 0.7500\n",
      "Epoch 3/20\n",
      "22/22 - 0s - loss: 0.4769 - accuracy: 0.8636 - val_loss: 0.6380 - val_accuracy: 0.5000\n",
      "Epoch 4/20\n",
      "22/22 - 0s - loss: 0.5033 - accuracy: 0.5909 - val_loss: 0.6333 - val_accuracy: 0.5000\n",
      "Epoch 5/20\n",
      "22/22 - 0s - loss: 0.4584 - accuracy: 0.6818 - val_loss: 0.4347 - val_accuracy: 0.6250\n",
      "Epoch 6/20\n",
      "22/22 - 0s - loss: 0.2746 - accuracy: 0.9091 - val_loss: 0.2568 - val_accuracy: 1.0000\n",
      "Epoch 7/20\n",
      "22/22 - 0s - loss: 0.1549 - accuracy: 1.0000 - val_loss: 0.1853 - val_accuracy: 1.0000\n",
      "Epoch 8/20\n",
      "22/22 - 1s - loss: 0.1298 - accuracy: 0.9545 - val_loss: 0.1572 - val_accuracy: 1.0000\n",
      "Epoch 9/20\n",
      "22/22 - 0s - loss: 0.1215 - accuracy: 0.9545 - val_loss: 0.1178 - val_accuracy: 1.0000\n",
      "Epoch 10/20\n",
      "22/22 - 0s - loss: 0.0935 - accuracy: 0.9545 - val_loss: 0.0852 - val_accuracy: 1.0000\n",
      "Epoch 11/20\n",
      "22/22 - 0s - loss: 0.0669 - accuracy: 1.0000 - val_loss: 0.0622 - val_accuracy: 1.0000\n",
      "Epoch 12/20\n",
      "22/22 - 0s - loss: 0.0447 - accuracy: 1.0000 - val_loss: 0.0478 - val_accuracy: 1.0000\n",
      "Epoch 13/20\n",
      "22/22 - 0s - loss: 0.0283 - accuracy: 1.0000 - val_loss: 0.0400 - val_accuracy: 1.0000\n",
      "Epoch 14/20\n",
      "22/22 - 0s - loss: 0.0175 - accuracy: 1.0000 - val_loss: 0.0370 - val_accuracy: 1.0000\n",
      "Epoch 15/20\n",
      "22/22 - 0s - loss: 0.0111 - accuracy: 1.0000 - val_loss: 0.0379 - val_accuracy: 1.0000\n",
      "Epoch 16/20\n",
      "22/22 - 0s - loss: 0.0074 - accuracy: 1.0000 - val_loss: 0.0415 - val_accuracy: 1.0000\n",
      "Epoch 17/20\n",
      "22/22 - 0s - loss: 0.0055 - accuracy: 1.0000 - val_loss: 0.0467 - val_accuracy: 1.0000\n",
      "Epoch 18/20\n",
      "22/22 - 0s - loss: 0.0045 - accuracy: 1.0000 - val_loss: 0.0516 - val_accuracy: 1.0000\n",
      "Epoch 19/20\n",
      "22/22 - 0s - loss: 0.0039 - accuracy: 1.0000 - val_loss: 0.0548 - val_accuracy: 1.0000\n",
      "Epoch 20/20\n",
      "22/22 - 0s - loss: 0.0034 - accuracy: 1.0000 - val_loss: 0.0554 - val_accuracy: 1.0000\n",
      "Test loss: 0.0554463267326355\n",
      "Test accuracy: 1.0\n",
      "Elapsed time: 0:00:07.10\n"
     ]
    }
   ],
   "source": [
    "start_time = time.time()\n",
    "model2.fit(training_data, training_data_label,\n",
    "          epochs=epochs,\n",
    "          verbose=2,\n",
    "          validation_data=(testing_data, testing_data_label))\n",
    "score = model2.evaluate(testing_data, testing_data_label, verbose=0)\n",
    "print('Test loss: {}'.format(score[0]))\n",
    "print('Test accuracy: {}'.format(score[1]))\n",
    "\n",
    "elapsed_time = time.time() - start_time\n",
    "print(\"Elapsed time: {}\".format(hms_string(elapsed_time)))\n"
   ]
  },
  {
   "cell_type": "code",
   "execution_count": 214,
   "metadata": {},
   "outputs": [
    {
     "name": "stdout",
     "output_type": "stream",
     "text": [
      "------------------------------------\n"
     ]
    },
    {
     "data": {
      "image/png": "[encoded data removed]",
      "text/plain": [
       "<PIL.Image.Image image mode=RGB size=32x32 at 0x7F9974496490>"
      ]
     },
     "metadata": {},
     "output_type": "display_data"
    },
    {
     "name": "stdout",
     "output_type": "stream",
     "text": [
      "cross % 99.999893\n",
      "circle % 0.000109\n",
      "------------------------------------\n"
     ]
    },
    {
     "data": {
      "image/png": "[encoded data removed]",
      "text/plain": [
       "<PIL.Image.Image image mode=RGB size=32x32 at 0x7F9974EFB9D0>"
      ]
     },
     "metadata": {},
     "output_type": "display_data"
    },
    {
     "name": "stdout",
     "output_type": "stream",
     "text": [
      "cross % 0.104386\n",
      "circle % 99.895608\n",
      "------------------------------------\n"
     ]
    },
    {
     "data": {
      "image/png": "[encoded data removed]",
      "text/plain": [
       "<PIL.Image.Image image mode=RGB size=32x32 at 0x7F9980102410>"
      ]
     },
     "metadata": {},
     "output_type": "display_data"
    },
    {
     "name": "stdout",
     "output_type": "stream",
     "text": [
      "cross % 0.085473\n",
      "circle % 99.914527\n",
      "------------------------------------\n"
     ]
    },
    {
     "data": {
      "image/png": "[encoded data removed]",
      "text/plain": [
       "<PIL.Image.Image image mode=RGB size=32x32 at 0x7F99801E3950>"
      ]
     },
     "metadata": {},
     "output_type": "display_data"
    },
    {
     "name": "stdout",
     "output_type": "stream",
     "text": [
      "cross % 99.983466\n",
      "circle % 0.016526\n",
      "------------------------------------\n"
     ]
    },
    {
     "data": {
      "image/png": "[encoded data removed]",
      "text/plain": [
       "<PIL.Image.Image image mode=RGB size=32x32 at 0x7F99801E3C90>"
      ]
     },
     "metadata": {},
     "output_type": "display_data"
    },
    {
     "name": "stdout",
     "output_type": "stream",
     "text": [
      "cross % 99.836630\n",
      "circle % 0.163367\n",
      "------------------------------------\n"
     ]
    },
    {
     "data": {
      "image/png": "[encoded data removed]",
      "text/plain": [
       "<PIL.Image.Image image mode=RGB size=32x32 at 0x7F99801E3D50>"
      ]
     },
     "metadata": {},
     "output_type": "display_data"
    },
    {
     "name": "stdout",
     "output_type": "stream",
     "text": [
      "cross % 7.878711\n",
      "circle % 92.121291\n",
      "------------------------------------\n"
     ]
    },
    {
     "data": {
      "image/png": "[encoded data removed]",
      "text/plain": [
       "<PIL.Image.Image image mode=RGB size=32x32 at 0x7F9982DBDD10>"
      ]
     },
     "metadata": {},
     "output_type": "display_data"
    },
    {
     "name": "stdout",
     "output_type": "stream",
     "text": [
      "cross % 1.516559\n",
      "circle % 98.483443\n",
      "------------------------------------\n"
     ]
    },
    {
     "data": {
      "image/png": "[encoded data removed]",
      "text/plain": [
       "<PIL.Image.Image image mode=RGB size=32x32 at 0x7F9982DC4FD0>"
      ]
     },
     "metadata": {},
     "output_type": "display_data"
    },
    {
     "name": "stdout",
     "output_type": "stream",
     "text": [
      "cross % 99.879360\n",
      "circle % 0.120643\n",
      "------------------------------------\n"
     ]
    },
    {
     "data": {
      "image/png": "[encoded data removed]",
      "text/plain": [
       "<PIL.Image.Image image mode=RGB size=32x32 at 0x7F9972848D90>"
      ]
     },
     "metadata": {},
     "output_type": "display_data"
    },
    {
     "name": "stdout",
     "output_type": "stream",
     "text": [
      "cross % 0.002612\n",
      "circle % 99.997389\n",
      "------------------------------------\n"
     ]
    },
    {
     "data": {
      "image/png": "[encoded data removed]",
      "text/plain": [
       "<PIL.Image.Image image mode=RGB size=32x32 at 0x7F9982DBDF50>"
      ]
     },
     "metadata": {},
     "output_type": "display_data"
    },
    {
     "name": "stdout",
     "output_type": "stream",
     "text": [
      "cross % 0.001139\n",
      "circle % 99.998856\n",
      "------------------------------------\n"
     ]
    },
    {
     "data": {
      "image/png": "[encoded data removed]",
      "text/plain": [
       "<PIL.Image.Image image mode=RGB size=32x32 at 0x7F9982DC7350>"
      ]
     },
     "metadata": {},
     "output_type": "display_data"
    },
    {
     "name": "stdout",
     "output_type": "stream",
     "text": [
      "cross % 99.999857\n",
      "circle % 0.000142\n",
      "------------------------------------\n"
     ]
    },
    {
     "data": {
      "image/png": "[encoded data removed]",
      "text/plain": [
       "<PIL.Image.Image image mode=RGB size=32x32 at 0x7F9982DC73D0>"
      ]
     },
     "metadata": {},
     "output_type": "display_data"
    },
    {
     "name": "stdout",
     "output_type": "stream",
     "text": [
      "cross % 99.999297\n",
      "circle % 0.000704\n"
     ]
    }
   ],
   "source": [
    "\n",
    "classes = model.predict(randomised_data)\n",
    "# show the inputs and predicted outputs\n",
    "for i in range(len(classes)):\n",
    "    class_labels = classes[i]\n",
    "    print(\"------------------------------------\")\n",
    "    display(randomised_images[i][0])\n",
    "    print(\"cross %\", '%f' % (class_labels[0]*100))\n",
    "    print(\"circle %\", '%f' % (class_labels[1]*100))\n",
    "    \n"
   ]
  },
  {
   "cell_type": "code",
   "execution_count": 215,
   "metadata": {},
   "outputs": [
    {
     "name": "stdout",
     "output_type": "stream",
     "text": [
      "------------------------------------\n"
     ]
    },
    {
     "data": {
      "image/png": "[encoded data removed]",
      "text/plain": [
       "<PIL.Image.Image image mode=RGB size=32x32 at 0x7F9974496490>"
      ]
     },
     "metadata": {},
     "output_type": "display_data"
    },
    {
     "name": "stdout",
     "output_type": "stream",
     "text": [
      "cross % 99.962342\n",
      "circle % 0.037658\n",
      "------------------------------------\n"
     ]
    },
    {
     "data": {
      "image/png": "[encoded data removed]",
      "text/plain": [
       "<PIL.Image.Image image mode=RGB size=32x32 at 0x7F9974EFB9D0>"
      ]
     },
     "metadata": {},
     "output_type": "display_data"
    },
    {
     "name": "stdout",
     "output_type": "stream",
     "text": [
      "cross % 2.276053\n",
      "circle % 97.723949\n",
      "------------------------------------\n"
     ]
    },
    {
     "data": {
      "image/png": "[encoded data removed]",
      "text/plain": [
       "<PIL.Image.Image image mode=RGB size=32x32 at 0x7F9980102410>"
      ]
     },
     "metadata": {},
     "output_type": "display_data"
    },
    {
     "name": "stdout",
     "output_type": "stream",
     "text": [
      "cross % 1.934893\n",
      "circle % 98.065108\n",
      "------------------------------------\n"
     ]
    },
    {
     "data": {
      "image/png": "[encoded data removed]",
      "text/plain": [
       "<PIL.Image.Image image mode=RGB size=32x32 at 0x7F99801E3950>"
      ]
     },
     "metadata": {},
     "output_type": "display_data"
    },
    {
     "name": "stdout",
     "output_type": "stream",
     "text": [
      "cross % 99.677485\n",
      "circle % 0.322520\n",
      "------------------------------------\n"
     ]
    },
    {
     "data": {
      "image/png": "[encoded data removed]",
      "text/plain": [
       "<PIL.Image.Image image mode=RGB size=32x32 at 0x7F99801E3C90>"
      ]
     },
     "metadata": {},
     "output_type": "display_data"
    },
    {
     "name": "stdout",
     "output_type": "stream",
     "text": [
      "cross % 99.736136\n",
      "circle % 0.263860\n",
      "------------------------------------\n"
     ]
    },
    {
     "data": {
      "image/png": "[encoded data removed]",
      "text/plain": [
       "<PIL.Image.Image image mode=RGB size=32x32 at 0x7F99801E3D50>"
      ]
     },
     "metadata": {},
     "output_type": "display_data"
    },
    {
     "name": "stdout",
     "output_type": "stream",
     "text": [
      "cross % 26.528963\n",
      "circle % 73.471040\n",
      "------------------------------------\n"
     ]
    },
    {
     "data": {
      "image/png": "[encoded data removed]",
      "text/plain": [
       "<PIL.Image.Image image mode=RGB size=32x32 at 0x7F9982DBDD10>"
      ]
     },
     "metadata": {},
     "output_type": "display_data"
    },
    {
     "name": "stdout",
     "output_type": "stream",
     "text": [
      "cross % 39.804772\n",
      "circle % 60.195231\n",
      "------------------------------------\n"
     ]
    },
    {
     "data": {
      "image/png": "[encoded data removed]",
      "text/plain": [
       "<PIL.Image.Image image mode=RGB size=32x32 at 0x7F9982DC4FD0>"
      ]
     },
     "metadata": {},
     "output_type": "display_data"
    },
    {
     "name": "stdout",
     "output_type": "stream",
     "text": [
      "cross % 99.735677\n",
      "circle % 0.264325\n",
      "------------------------------------\n"
     ]
    },
    {
     "data": {
      "image/png": "[encoded data removed]",
      "text/plain": [
       "<PIL.Image.Image image mode=RGB size=32x32 at 0x7F9972848D90>"
      ]
     },
     "metadata": {},
     "output_type": "display_data"
    },
    {
     "name": "stdout",
     "output_type": "stream",
     "text": [
      "cross % 0.623473\n",
      "circle % 99.376523\n",
      "------------------------------------\n"
     ]
    },
    {
     "data": {
      "image/png": "[encoded data removed]",
      "text/plain": [
       "<PIL.Image.Image image mode=RGB size=32x32 at 0x7F9982DBDF50>"
      ]
     },
     "metadata": {},
     "output_type": "display_data"
    },
    {
     "name": "stdout",
     "output_type": "stream",
     "text": [
      "cross % 0.115606\n",
      "circle % 99.884391\n",
      "------------------------------------\n"
     ]
    },
    {
     "data": {
      "image/png": "[encoded data removed]",
      "text/plain": [
       "<PIL.Image.Image image mode=RGB size=32x32 at 0x7F9982DC7350>"
      ]
     },
     "metadata": {},
     "output_type": "display_data"
    },
    {
     "name": "stdout",
     "output_type": "stream",
     "text": [
      "cross % 99.962831\n",
      "circle % 0.037164\n",
      "------------------------------------\n"
     ]
    },
    {
     "data": {
      "image/png": "[encoded data removed]",
      "text/plain": [
       "<PIL.Image.Image image mode=RGB size=32x32 at 0x7F9982DC73D0>"
      ]
     },
     "metadata": {},
     "output_type": "display_data"
    },
    {
     "name": "stdout",
     "output_type": "stream",
     "text": [
      "cross % 99.945265\n",
      "circle % 0.054740\n"
     ]
    }
   ],
   "source": [
    "classes = model2.predict(randomised_data)\n",
    "# show the inputs and predicted outputs\n",
    "for i in range(len(classes)):\n",
    "    class_labels = classes[i]\n",
    "    print(\"------------------------------------\")\n",
    "    display(randomised_images[i][0])\n",
    "    print(\"cross %\", '%f' % (class_labels[0]*100))\n",
    "    print(\"circle %\", '%f' % (class_labels[1]*100))"
   ]
  },
  {
   "cell_type": "code",
   "execution_count": null,
   "metadata": {},
   "outputs": [],
   "source": []
  },
  {
   "cell_type": "markdown",
   "metadata": {},
   "source": [
    "# a) Dataset Description\n",
    "\n",
    "Training Dataset: balanced consists of 22 items\n",
    "Testing Dataset: balanced consists of 8 items\n",
    "Randomised Verification Dataset: 12 items\n",
    "\n",
    "# b) CNN Description\n",
    "\n",
    "- First CNN consists of 8 layers (Taken from Jeff Heaton course) uses RELU as activation function \n",
    "- Second CNN consists of 6 layers with sigmoid as activation function\n",
    "\n",
    "# c, d) Displayed above\n",
    "\n",
    "# e) Epoch's Required for Convergence\n",
    "\n",
    "Its evident by looking at the metrics that convergence starts at 4th Epoch after jumping between between convergence and divergence in the first 3 Epochs\n",
    "\n",
    "# f) Misclassified Images\n",
    "\n",
    "The 6th image in the predicted images section is being classified wrong. I think its because it has some similarity with the circle images and we didnot have any such image or close to this image in our training dataset. to fix this we can add this in our training data set.\n",
    "\n",
    "Also it would be great if we can discuss in class, How to design such a network which can learn while predicting. \n"
   ]
  }
 ],
 "metadata": {
  "kernelspec": {
   "display_name": "Python 3 (tensorflow)",
   "language": "python",
   "name": "tensorflow"
  },
  "language_info": {
   "codemirror_mode": {
    "name": "ipython",
    "version": 3
   },
   "file_extension": ".py",
   "mimetype": "text/x-python",
   "name": "python",
   "nbconvert_exporter": "python",
   "pygments_lexer": "ipython3",
   "version": "3.7.9"
  }
 },
 "nbformat": 4,
 "nbformat_minor": 4
}
